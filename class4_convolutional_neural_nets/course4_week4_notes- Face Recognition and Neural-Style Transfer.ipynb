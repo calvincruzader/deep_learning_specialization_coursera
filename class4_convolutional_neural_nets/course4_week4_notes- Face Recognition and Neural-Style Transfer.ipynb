{
 "cells": [
  {
   "cell_type": "markdown",
   "metadata": {},
   "source": [
    "## Face Recognition \n",
    "\n",
    "#### What is face recognition? \n",
    "\n",
    "* Face verification vs. face recognition \n",
    "   * Verification - given an image and name/ID, output whether the image is the claimed person \n",
    "   * Recognition - given you have $K$ persons in a database and their respective names/IDs, when you get an input image, output ID if image is any of the $K$ persons (or \"not recognized\")\n",
    "   \n",
    "#### One Shot Learning \n",
    "\n",
    "* One-shot learning - recognize that person given just one image of that person's face\n",
    "    * aka learn from just **one** example \n",
    "    * to make it work, we learn a \"similarity\" function \n",
    "        * $d($img1, img2$)$ $=$ degree of difference between images\n",
    "            * If $d($img1,img2$) \\leq \\tau \\rightarrow$ \"same\" else \"different\"\n",
    "            * pairwise comparison between the input image and each of the $K$ persons in the database\n",
    "            \n",
    "#### Siamese Network \n",
    "\n",
    "* Siamese Network explained:\n",
    "    * $x^{(1)} \\rightarrow$ ConvNet until last FC layer $\\rightarrow f(x^{(1)}) =$ \"encoding of $x^{(1)}$\""
   ]
  }
 ],
 "metadata": {
  "kernelspec": {
   "display_name": "Python [default]",
   "language": "python",
   "name": "python3"
  },
  "language_info": {
   "codemirror_mode": {
    "name": "ipython",
    "version": 3
   },
   "file_extension": ".py",
   "mimetype": "text/x-python",
   "name": "python",
   "nbconvert_exporter": "python",
   "pygments_lexer": "ipython3",
   "version": "3.6.3"
  }
 },
 "nbformat": 4,
 "nbformat_minor": 2
}
