{
 "cells": [
  {
   "cell_type": "markdown",
   "metadata": {},
   "source": [
    "# Convolutional Neural Networks\n",
    "---\n",
    "\n",
    "###  Computer Vision \n",
    "* The main architecture for learning from computer vision applications is **convolutional neural networks**\n",
    "    * The main problem right now is computational cost: images can be very big/detailed which means lots of pixels which means lots of computation\n",
    "---\n",
    "\n",
    "###  Edge Detection Example \n",
    "\n",
    "* motivating example for understanding convolution operation \n",
    "* filter/kernel - object which an image will be convolved by \n",
    "    * in example, it's a column of 1s then 0s, then -1s \n",
    "* convolution process:\n",
    "    * each cell in a filter/kernel is multipled by a cell in the image until all the filter's cells have been used\n",
    "    * add up all the multiplications and put that value in an output matrix\n",
    "    * stride based on some predetermined stride value\n",
    "    * repeat\n",
    "* Ng illustrates why the filter used in the example is a vertical edge detector \n",
    "---\n",
    "\n",
    "### More Edge Detection \n",
    "* Ng continues to illustrate vertical edge detectors and then a horizontal edge detector using different filters \n",
    "* There's a debate in the literature as to what are the best numbers for filters to use\n",
    "    * Sobel filter - more weight for central region \n",
    "    * Scharr filter \n",
    "* for deep learning, maybe you don't have to hand pick the 9 numbers, but maybe **learn** them by treating each cell in the filter as a parameter to tune \n",
    "----\n"
   ]
  },
  {
   "cell_type": "markdown",
   "metadata": {},
   "source": [
    "### Padding \n",
    "* Problems that padding can alleviate:\n",
    "   * shrinking output: $(n - f + 1)$ output image size \n",
    "   * throwing out a lot of information from the edges of the image \n",
    "* put a border, a padding around an image to perform padding \n",
    "    * thus, output image size with padding is $(n + 2p - f + 1)$\n",
    "* valid convolution - no padding i.e. output size is $n - f + 1$ \n",
    "* same convolution - output size is the same as the input size s.t. $n + 2p - f + 1 = n$\n",
    "* $f$ is usually odd, and sometimes the literature puts importance to the center of the filter/kernel \n",
    "---\n"
   ]
  },
  {
   "cell_type": "markdown",
   "metadata": {},
   "source": [
    "### Strided Convolutions\n",
    "* stride - how many positions to move between each convolution\n",
    "* output size will then be $\\lfloor\\dfrac{n + 2p -f}{s} + 1\\rfloor$ by $\\lfloor\\dfrac{n + 2p -f}{s} + 1\\rfloor$\n",
    "* Ng mentions how AI convolution is defined a little differently from math convolution \n",
    "    * more precise to call AI convolution as the 'cross correlation' operation\n",
    "---\n",
    "    "
   ]
  },
  {
   "cell_type": "markdown",
   "metadata": {},
   "source": [
    "### Convolutions Over Volume \n",
    "* convolution of volumes involves having filters/kernels with size (f_height, f_width, num_channels_in_input)\n",
    "    * Ng has a convolution filter example of (3 x 3 x 3)\n",
    "* The 3D filter/kernel is basically a 2D filter for each channel.\n",
    "    * Each 2D filter can have different numbers associated with it to find something you want from an image \n",
    "* To create a 3D output volume, you can have 2 or more convolutions on the same input and stack them up \n",
    "    * Ng illustrates that 2 convolutions of size (3x3x3) on a (6x6x3) image results in (4x4x2) output volume \n"
   ]
  }
 ],
 "metadata": {
  "kernelspec": {
   "display_name": "Python [default]",
   "language": "python",
   "name": "python3"
  },
  "language_info": {
   "codemirror_mode": {
    "name": "ipython",
    "version": 3
   },
   "file_extension": ".py",
   "mimetype": "text/x-python",
   "name": "python",
   "nbconvert_exporter": "python",
   "pygments_lexer": "ipython3",
   "version": "3.6.3"
  }
 },
 "nbformat": 4,
 "nbformat_minor": 2
}
