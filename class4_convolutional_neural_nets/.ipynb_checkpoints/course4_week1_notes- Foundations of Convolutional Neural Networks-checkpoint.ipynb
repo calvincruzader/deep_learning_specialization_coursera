{
 "cells": [
  {
   "cell_type": "markdown",
   "metadata": {},
   "source": [
    "# Convolutional Neural Networks\n",
    "\n",
    "###  Computer Vision \n",
    "* The main architecture for learning from computer vision applications is **convolutional neural networks**\n",
    "    * The main problem right now is computational cost: images can be very big/detailed which means lots of pixels which means lots of computation\n",
    "    \n",
    "###  Edge Detection Example \n",
    "\n",
    "* motivating example for understanding convolution operation \n",
    "* filter/kernel - object which an image will be convolved by \n",
    "    * in example, it's a column of 1s then 0s, then -1s \n",
    "* convolution process:\n",
    "    * each cell in a filter/kernel is multipled by a cell in the image until all the filter's cells have been used\n",
    "    * add up all the multiplications and put that value in an output matrix\n",
    "    * stride based on some predetermined stride value\n",
    "    * repeat\n",
    "\n",
    "    \n"
   ]
  }
 ],
 "metadata": {
  "kernelspec": {
   "display_name": "Python [default]",
   "language": "python",
   "name": "python3"
  },
  "language_info": {
   "codemirror_mode": {
    "name": "ipython",
    "version": 3
   },
   "file_extension": ".py",
   "mimetype": "text/x-python",
   "name": "python",
   "nbconvert_exporter": "python",
   "pygments_lexer": "ipython3",
   "version": "3.6.3"
  }
 },
 "nbformat": 4,
 "nbformat_minor": 2
}
