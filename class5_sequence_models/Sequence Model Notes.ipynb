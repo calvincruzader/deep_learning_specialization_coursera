{
 "cells": [
  {
   "cell_type": "markdown",
   "metadata": {},
   "source": [
    "# Week 1 : Recurrent Neural Networks \n",
    "\n",
    "## Recurrent Neural Networks \n",
    "\n",
    "### Why Sequence models \n",
    "\n",
    "Examples of sequence data:\n",
    "* speech recognition \n",
    "* music generation \n",
    "* sentiment classification \n",
    "* DNA sequence analysis\n",
    "* machine translation \n",
    "* video activity recognition \n",
    "* name entity recognition\n",
    "\n",
    "### Notation \n",
    "\n",
    "$x$ : Harry Potter and Hermione Granger invented a new spell. \n",
    "\n",
    "$x$ : $x^{<1>} = \\text{Harry}, x^{<2>} = \\text{Potter}, \\ldots, x^{<9>} = \\text{spell}$ \n",
    "\n",
    "$y$ : $y^{<1>} = 1, y^{<2>} = 1, \\ldots, y^{<9>} = 0$\n",
    "\n",
    "$x^{(i)<t>}$ : represents the $i$th training example and the $t$th object in the sequence\n",
    "\n",
    "$T_x, T_y$ : the length of the input sequence and the length of the output sequence, respectively. Varies, obviously, for each training example\n",
    "\n",
    "We store all the words in a dictionary/vocabulary\n",
    "\n",
    "We do one-hot encoding for each object in our input sequence for each input sequence in our training set such that: \n",
    "$$x^{(i)<1>} = \\text{Harry} = \\begin{bmatrix} 0 \\\\ 0 \\\\ \\vdots \\\\ 0 \\\\ 1 \\\\ 0 \\\\ \\vdots \\\\  0 \\end{bmatrix}$$\n",
    "\n",
    "In dealing with words not in the vocabulary:\n",
    "$$<\\text{unk}> = \\text{some_index (maybe the last) in vocab/dict}$$\n",
    "\n",
    "### Recurrent Neural Network Model \n",
    "\n",
    "Why not a standard FFNN? \n",
    "* different inputs/outputs in the training set maybe have different lengths\n",
    "* doesn't share features learned across different positions of a text (no knowledge of sequences) \n",
    "\n",
    "**Recurrent Neural Network**\n",
    "\n"
   ]
  }
 ],
 "metadata": {
  "kernelspec": {
   "display_name": "Python [default]",
   "language": "python",
   "name": "python3"
  },
  "language_info": {
   "codemirror_mode": {
    "name": "ipython",
    "version": 3
   },
   "file_extension": ".py",
   "mimetype": "text/x-python",
   "name": "python",
   "nbconvert_exporter": "python",
   "pygments_lexer": "ipython3",
   "version": "3.6.3"
  }
 },
 "nbformat": 4,
 "nbformat_minor": 2
}
